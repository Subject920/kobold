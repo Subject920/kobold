{
  "nbformat": 4,
  "nbformat_minor": 0,
  "metadata": {
    "colab": {
      "provenance": [],
      "include_colab_link": true
    },
    "kernelspec": {
      "name": "python3",
      "display_name": "Python 3"
    },
    "language_info": {
      "name": "python"
    },
    "accelerator": "GPU",
    "gpuClass": "standard"
  },
  "cells": [
    {
      "cell_type": "markdown",
      "metadata": {
        "id": "view-in-github",
        "colab_type": "text"
      },
      "source": [
        "<a href=\"https://colab.research.google.com/github/Subject920/kobold/blob/main/KoboldAI_Pygmalion_6B.ipynb\" target=\"_parent\"><img src=\"https://colab.research.google.com/assets/colab-badge.svg\" alt=\"Open In Colab\"/></a>"
      ]
    },
    {
      "cell_type": "code",
      "source": [],
      "metadata": {
        "id": "CYnVxZuqeful"
      },
      "execution_count": null,
      "outputs": []
    },
    {
      "cell_type": "markdown",
      "source": [
        "# Welcome to the KoboldAI Pygmalion Notebook (Colab Edition)\n",
        "This is a port of the Kaggle I created, specifically for people having issues with bore.pub\n",
        "\n",
        "This notebook uses localtunnel instead which should work for everyone.\n",
        "\n",
        "### Just click ▶ on the cell below, and scroll down. This should take about 5-7 minutes.\n",
        "#### Additional instructions are at the bottom."
      ],
      "metadata": {
        "id": "07FdDKeFlngT"
      }
    },
    {
      "cell_type": "code",
      "execution_count": null,
      "metadata": {
        "id": "om8xqeI8lmd4"
      },
      "outputs": [],
      "source": [
        "import os\n",
        "if not os.path.exists(\"/content/drive\"):\n",
        "  os.mkdir(\"/content/drive\")\n",
        "if not os.path.exists(\"/content/drive/MyDrive/\"):\n",
        "  os.mkdir(\"/content/drive/MyDrive/\")\n",
        "\n",
        "!wget https://koboldai.org/ckds -O - | bash /dev/stdin --model PygmalionAI/pygmalion-6b -g United --localtunnel"
      ]
    },
    {
      "cell_type": "markdown",
      "source": [
        "### Once it says \"Setting seed\", you can grab the URL here\n",
        "![paintdotnet_2023-01-26_15-00-05.png](https://raytracing-benchmarks.are-really.cool/5utGhMj.png)\n",
        "\n",
        "Copy this URL and paste it in TavernAI\n",
        "\n",
        "### Now you'll want to install Tavern AI:\n",
        "\n",
        "First you will need to install NodeJS [using this download link](https://nodejs.org/download/release/v19.1.0/node-v19.1.0-x64.msi) the install should go pretty fast. It's just a *click next, next, next* kinda deal.\n",
        "\n",
        "- [Download TavernAI](https://github.com/TavernAI/TavernAI/archive/refs/heads/main.zip) and extract it anywhere, it doesn't really matter.\n",
        "- Run `start.bat`\n",
        "- TavernAI should automatically open in your web browser.\n",
        "- Open the sidebar  \n",
        "  ![image.png](https://raytracing-benchmarks.are-really.cool/4sBV6id.png)\n",
        "- Click on Settings  \n",
        "  ![image.png](https://raytracing-benchmarks.are-really.cool/7iAN7Gr.png)\n",
        "- Take the URL you copied earlier, and paste it here.\n",
        "  Make sure it ends in **/api**\n",
        "  ![image.png](https://raytracing-benchmarks.are-really.cool/5JCcegj.png)\n",
        "- Set the settings mode to Classic-Pygmalion-6B  \n",
        "  ![image.png](https://raytracing-benchmarks.are-really.cool/7yGyLv3.png)\n",
        "- ## THIS LAST STEP IS INSANELY IMPORTANT\n",
        "  #### Set the Context Size to 1400 or thereabout to avoid running out of GPU memory.\n",
        "  ![image.png](https://raytracing-benchmarks.are-really.cool/7oZ8KRr.png)"
      ],
      "metadata": {
        "id": "eckl56piqClT"
      }
    }
  ]
}